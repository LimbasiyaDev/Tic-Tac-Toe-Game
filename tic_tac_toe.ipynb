{
  "nbformat": 4,
  "nbformat_minor": 0,
  "metadata": {
    "colab": {
      "provenance": [],
      "authorship_tag": "ABX9TyP+s2EO/GUfy1VMXWARAdyf",
      "include_colab_link": true
    },
    "kernelspec": {
      "name": "python3",
      "display_name": "Python 3"
    },
    "language_info": {
      "name": "python"
    }
  },
  "cells": [
    {
      "cell_type": "markdown",
      "metadata": {
        "id": "view-in-github",
        "colab_type": "text"
      },
      "source": [
        "<a href=\"https://colab.research.google.com/github/LimbasiyaDev/Tic-Tac-Toe-Game/blob/main/tic_tac_toe.ipynb\" target=\"_parent\"><img src=\"https://colab.research.google.com/assets/colab-badge.svg\" alt=\"Open In Colab\"/></a>"
      ]
    },
    {
      "cell_type": "code",
      "execution_count": null,
      "metadata": {
        "colab": {
          "base_uri": "https://localhost:8080/"
        },
        "id": "fmhmDgR5fziq",
        "outputId": "fa32cf41-17ca-4be1-cad3-664ab6d43568"
      },
      "outputs": [
        {
          "output_type": "stream",
          "name": "stdout",
          "text": [
            "Collecting colorama\n",
            "  Downloading colorama-0.4.6-py2.py3-none-any.whl.metadata (17 kB)\n",
            "Downloading colorama-0.4.6-py2.py3-none-any.whl (25 kB)\n",
            "Installing collected packages: colorama\n",
            "Successfully installed colorama-0.4.6\n"
          ]
        }
      ],
      "source": [
        "pip install colorama\n"
      ]
    },
    {
      "cell_type": "code",
      "source": [
        "def print_board(board):\n",
        "    print(\"-------------\")\n",
        "    for i in range(3):\n",
        "        print(\"|\", board[i*3], \"|\", board[i*3 + 1], \"|\", board[i*3 + 2], \"|\")\n",
        "        print(\"-------------\")\n",
        "\n",
        "def check_win(board, player):\n",
        "    for i in range(3):\n",
        "        if all(board[i*3 + j] == player for j in range(3)):\n",
        "            return True\n",
        "        if all(board[j*3 + i] == player for j in range(3)):\n",
        "            return True\n",
        "    if all(board[i*4] == player for i in range(3)):\n",
        "        return True\n",
        "    if all(board[i*2+2] == player for i in range(3)):\n",
        "        return True\n",
        "    return False\n",
        "\n",
        "def check_draw(board):\n",
        "    return all(cell != ' ' for cell in board)\n",
        "\n",
        "def play_tic_tac_toe():\n",
        "    player1 = input(\"Enter name of Player 1 (X): \")\n",
        "    player2 = input(\"Enter name of Player 2 (O): \")\n",
        "    board = [' '] * 9\n",
        "    players = {'X': f'\\033[91mX\\033[0m', 'O': f'\\033[92mO\\033[0m'}  # Red for X, Green for O\n",
        "    names = {'X': player1, 'O': player2}\n",
        "    turn = 0\n",
        "\n",
        "    while True:\n",
        "        print_board(board)\n",
        "        move = int(input(f\"{names[list(players.keys())[turn % 2]]}, enter your move (1-9): \")) - 1\n",
        "\n",
        "        if 0 <= move <= 8 and board[move] == ' ':\n",
        "            board[move] = players[list(players.keys())[turn % 2]]\n",
        "        else:\n",
        "            print(\"Invalid move. Try again.\")\n",
        "            continue\n",
        "\n",
        "        if check_win(board, players[list(players.keys())[turn % 2]]):\n",
        "            print_board(board)\n",
        "            print(f\"Congratulations {names[list(players.keys())[turn % 2]]}! You win!\")\n",
        "            break\n",
        "        elif check_draw(board):\n",
        "            print_board(board)\n",
        "            print(\"It's a draw!\")\n",
        "            break\n",
        "        else:\n",
        "            turn += 1\n",
        "\n",
        "if __name__ == \"__main__\":\n",
        "    play_tic_tac_toe()"
      ],
      "metadata": {
        "colab": {
          "base_uri": "https://localhost:8080/"
        },
        "id": "J-a8ppmnjQMz",
        "outputId": "ed183af7-af87-49c7-d554-79ff03e9a492"
      },
      "execution_count": null,
      "outputs": [
        {
          "output_type": "stream",
          "name": "stdout",
          "text": [
            "Enter name of Player 1 (X): Dev\n",
            "Enter name of Player 2 (O): Sujal\n",
            "-------------\n",
            "|   |   |   |\n",
            "-------------\n",
            "|   |   |   |\n",
            "-------------\n",
            "|   |   |   |\n",
            "-------------\n",
            "Dev, enter your move (1-9): 2\n",
            "-------------\n",
            "|   | \u001b[91mX\u001b[0m |   |\n",
            "-------------\n",
            "|   |   |   |\n",
            "-------------\n",
            "|   |   |   |\n",
            "-------------\n",
            "Sujal, enter your move (1-9): 3\n",
            "-------------\n",
            "|   | \u001b[91mX\u001b[0m | \u001b[92mO\u001b[0m |\n",
            "-------------\n",
            "|   |   |   |\n",
            "-------------\n",
            "|   |   |   |\n",
            "-------------\n",
            "Dev, enter your move (1-9): 4\n",
            "-------------\n",
            "|   | \u001b[91mX\u001b[0m | \u001b[92mO\u001b[0m |\n",
            "-------------\n",
            "| \u001b[91mX\u001b[0m |   |   |\n",
            "-------------\n",
            "|   |   |   |\n",
            "-------------\n",
            "Sujal, enter your move (1-9): 6\n",
            "-------------\n",
            "|   | \u001b[91mX\u001b[0m | \u001b[92mO\u001b[0m |\n",
            "-------------\n",
            "| \u001b[91mX\u001b[0m |   | \u001b[92mO\u001b[0m |\n",
            "-------------\n",
            "|   |   |   |\n",
            "-------------\n",
            "Dev, enter your move (1-9): 5\n",
            "-------------\n",
            "|   | \u001b[91mX\u001b[0m | \u001b[92mO\u001b[0m |\n",
            "-------------\n",
            "| \u001b[91mX\u001b[0m | \u001b[91mX\u001b[0m | \u001b[92mO\u001b[0m |\n",
            "-------------\n",
            "|   |   |   |\n",
            "-------------\n",
            "Sujal, enter your move (1-9): 9\n",
            "-------------\n",
            "|   | \u001b[91mX\u001b[0m | \u001b[92mO\u001b[0m |\n",
            "-------------\n",
            "| \u001b[91mX\u001b[0m | \u001b[91mX\u001b[0m | \u001b[92mO\u001b[0m |\n",
            "-------------\n",
            "|   |   | \u001b[92mO\u001b[0m |\n",
            "-------------\n",
            "Congratulations Sujal! You win!\n"
          ]
        }
      ]
    }
  ]
}